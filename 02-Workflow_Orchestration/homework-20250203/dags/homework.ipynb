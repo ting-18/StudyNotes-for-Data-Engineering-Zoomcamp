{
 "cells": [
  {
   "cell_type": "code",
   "execution_count": null,
   "id": "5d3e8e9e",
   "metadata": {},
   "outputs": [],
   "source": [
    "# !pip install psycopg2-binary pandas sqlalchemy"
   ]
  },
  {
   "cell_type": "code",
   "execution_count": 4,
   "id": "5a32a668",
   "metadata": {},
   "outputs": [
    {
     "name": "stdout",
     "output_type": "stream",
     "text": [
      "Collecting google-cloud-bigquery\n",
      "  Downloading google_cloud_bigquery-3.29.0-py2.py3-none-any.whl.metadata (7.6 kB)\n",
      "Collecting google-api-core<3.0.0dev,>=2.11.1 (from google-api-core[grpc]<3.0.0dev,>=2.11.1->google-cloud-bigquery)\n",
      "  Downloading google_api_core-2.24.1-py3-none-any.whl.metadata (3.0 kB)\n",
      "Collecting google-auth<3.0.0dev,>=2.14.1 (from google-cloud-bigquery)\n",
      "  Downloading google_auth-2.38.0-py2.py3-none-any.whl.metadata (4.8 kB)\n",
      "Collecting google-cloud-core<3.0.0dev,>=2.4.1 (from google-cloud-bigquery)\n",
      "  Downloading google_cloud_core-2.4.1-py2.py3-none-any.whl.metadata (2.7 kB)\n",
      "Collecting google-resumable-media<3.0dev,>=2.0.0 (from google-cloud-bigquery)\n",
      "  Downloading google_resumable_media-2.7.2-py2.py3-none-any.whl.metadata (2.2 kB)\n",
      "Requirement already satisfied: packaging>=20.0.0 in c:\\users\\tliu1\\anaconda3\\lib\\site-packages (from google-cloud-bigquery) (23.2)\n",
      "Requirement already satisfied: python-dateutil<3.0dev,>=2.7.3 in c:\\users\\tliu1\\anaconda3\\lib\\site-packages (from google-cloud-bigquery) (2.9.0.post0)\n",
      "Requirement already satisfied: requests<3.0.0dev,>=2.21.0 in c:\\users\\tliu1\\anaconda3\\lib\\site-packages (from google-cloud-bigquery) (2.32.2)\n",
      "Collecting googleapis-common-protos<2.0.dev0,>=1.56.2 (from google-api-core<3.0.0dev,>=2.11.1->google-api-core[grpc]<3.0.0dev,>=2.11.1->google-cloud-bigquery)\n",
      "  Downloading googleapis_common_protos-1.66.0-py2.py3-none-any.whl.metadata (1.5 kB)\n",
      "Requirement already satisfied: protobuf!=3.20.0,!=3.20.1,!=4.21.0,!=4.21.1,!=4.21.2,!=4.21.3,!=4.21.4,!=4.21.5,<6.0.0.dev0,>=3.19.5 in c:\\users\\tliu1\\anaconda3\\lib\\site-packages (from google-api-core<3.0.0dev,>=2.11.1->google-api-core[grpc]<3.0.0dev,>=2.11.1->google-cloud-bigquery) (3.20.3)\n",
      "Collecting proto-plus<2.0.0dev,>=1.22.3 (from google-api-core<3.0.0dev,>=2.11.1->google-api-core[grpc]<3.0.0dev,>=2.11.1->google-cloud-bigquery)\n",
      "  Downloading proto_plus-1.26.0-py3-none-any.whl.metadata (2.2 kB)\n",
      "Requirement already satisfied: grpcio<2.0dev,>=1.33.2 in c:\\users\\tliu1\\anaconda3\\lib\\site-packages (from google-api-core[grpc]<3.0.0dev,>=2.11.1->google-cloud-bigquery) (1.63.0)\n",
      "Collecting grpcio-status<2.0.dev0,>=1.33.2 (from google-api-core[grpc]<3.0.0dev,>=2.11.1->google-cloud-bigquery)\n",
      "  Downloading grpcio_status-1.70.0-py3-none-any.whl.metadata (1.1 kB)\n",
      "Requirement already satisfied: cachetools<6.0,>=2.0.0 in c:\\users\\tliu1\\anaconda3\\lib\\site-packages (from google-auth<3.0.0dev,>=2.14.1->google-cloud-bigquery) (5.3.3)\n",
      "Requirement already satisfied: pyasn1-modules>=0.2.1 in c:\\users\\tliu1\\anaconda3\\lib\\site-packages (from google-auth<3.0.0dev,>=2.14.1->google-cloud-bigquery) (0.2.8)\n",
      "Collecting rsa<5,>=3.1.4 (from google-auth<3.0.0dev,>=2.14.1->google-cloud-bigquery)\n",
      "  Downloading rsa-4.9-py3-none-any.whl.metadata (4.2 kB)\n",
      "Collecting google-crc32c<2.0dev,>=1.0 (from google-resumable-media<3.0dev,>=2.0.0->google-cloud-bigquery)\n",
      "  Downloading google_crc32c-1.6.0-cp312-cp312-win_amd64.whl.metadata (2.4 kB)\n",
      "Requirement already satisfied: six>=1.5 in c:\\users\\tliu1\\anaconda3\\lib\\site-packages (from python-dateutil<3.0dev,>=2.7.3->google-cloud-bigquery) (1.16.0)\n",
      "Requirement already satisfied: charset-normalizer<4,>=2 in c:\\users\\tliu1\\anaconda3\\lib\\site-packages (from requests<3.0.0dev,>=2.21.0->google-cloud-bigquery) (2.0.4)\n",
      "Requirement already satisfied: idna<4,>=2.5 in c:\\users\\tliu1\\anaconda3\\lib\\site-packages (from requests<3.0.0dev,>=2.21.0->google-cloud-bigquery) (3.7)\n",
      "Requirement already satisfied: urllib3<3,>=1.21.1 in c:\\users\\tliu1\\anaconda3\\lib\\site-packages (from requests<3.0.0dev,>=2.21.0->google-cloud-bigquery) (2.2.2)\n",
      "Requirement already satisfied: certifi>=2017.4.17 in c:\\users\\tliu1\\anaconda3\\lib\\site-packages (from requests<3.0.0dev,>=2.21.0->google-cloud-bigquery) (2024.7.4)\n",
      "Collecting protobuf!=3.20.0,!=3.20.1,!=4.21.0,!=4.21.1,!=4.21.2,!=4.21.3,!=4.21.4,!=4.21.5,<6.0.0.dev0,>=3.19.5 (from google-api-core<3.0.0dev,>=2.11.1->google-api-core[grpc]<3.0.0dev,>=2.11.1->google-cloud-bigquery)\n",
      "  Downloading protobuf-5.29.3-cp310-abi3-win_amd64.whl.metadata (592 bytes)\n",
      "Collecting grpcio<2.0dev,>=1.33.2 (from google-api-core[grpc]<3.0.0dev,>=2.11.1->google-cloud-bigquery)\n",
      "  Downloading grpcio-1.70.0-cp312-cp312-win_amd64.whl.metadata (4.0 kB)\n",
      "Requirement already satisfied: pyasn1<0.5.0,>=0.4.6 in c:\\users\\tliu1\\anaconda3\\lib\\site-packages (from pyasn1-modules>=0.2.1->google-auth<3.0.0dev,>=2.14.1->google-cloud-bigquery) (0.4.8)\n",
      "Downloading google_cloud_bigquery-3.29.0-py2.py3-none-any.whl (244 kB)\n",
      "   ---------------------------------------- 0.0/244.6 kB ? eta -:--:--\n",
      "   - -------------------------------------- 10.2/244.6 kB ? eta -:--:--\n",
      "   ---------- ----------------------------- 61.4/244.6 kB 1.1 MB/s eta 0:00:01\n",
      "   ------------------ --------------------- 112.6/244.6 kB 1.1 MB/s eta 0:00:01\n",
      "   ---------------------------- ----------- 174.1/244.6 kB 1.3 MB/s eta 0:00:01\n",
      "   -------------------------------------- - 235.5/244.6 kB 1.3 MB/s eta 0:00:01\n",
      "   ---------------------------------------- 244.6/244.6 kB 1.2 MB/s eta 0:00:00\n",
      "Downloading google_api_core-2.24.1-py3-none-any.whl (160 kB)\n",
      "   ---------------------------------------- 0.0/160.1 kB ? eta -:--:--\n",
      "   --------------- ------------------------ 61.4/160.1 kB 1.6 MB/s eta 0:00:01\n",
      "   -------------------------------------- - 153.6/160.1 kB 1.8 MB/s eta 0:00:01\n",
      "   ---------------------------------------- 160.1/160.1 kB 1.6 MB/s eta 0:00:00\n",
      "Downloading google_auth-2.38.0-py2.py3-none-any.whl (210 kB)\n",
      "   ---------------------------------------- 0.0/210.8 kB ? eta -:--:--\n",
      "   ----------- ---------------------------- 61.4/210.8 kB 3.2 MB/s eta 0:00:01\n",
      "   ---------------------------------- ----- 184.3/210.8 kB 2.2 MB/s eta 0:00:01\n",
      "   ---------------------------------------- 210.8/210.8 kB 1.8 MB/s eta 0:00:00\n",
      "Downloading google_cloud_core-2.4.1-py2.py3-none-any.whl (29 kB)\n",
      "Downloading google_resumable_media-2.7.2-py2.py3-none-any.whl (81 kB)\n",
      "   ---------------------------------------- 0.0/81.3 kB ? eta -:--:--\n",
      "   ----------------------------------- ---- 71.7/81.3 kB 4.1 MB/s eta 0:00:01\n",
      "   ---------------------------------------- 81.3/81.3 kB 2.3 MB/s eta 0:00:00\n",
      "Downloading google_crc32c-1.6.0-cp312-cp312-win_amd64.whl (33 kB)\n",
      "Downloading googleapis_common_protos-1.66.0-py2.py3-none-any.whl (221 kB)\n",
      "   ---------------------------------------- 0.0/221.7 kB ? eta -:--:--\n",
      "   -------------------- ------------------- 112.6/221.7 kB 2.2 MB/s eta 0:00:01\n",
      "   ----------------------------------- ---- 194.6/221.7 kB 2.4 MB/s eta 0:00:01\n",
      "   ---------------------------------------- 221.7/221.7 kB 1.9 MB/s eta 0:00:00\n",
      "Downloading grpcio_status-1.70.0-py3-none-any.whl (14 kB)\n",
      "Downloading grpcio-1.70.0-cp312-cp312-win_amd64.whl (4.3 MB)\n",
      "   ---------------------------------------- 0.0/4.3 MB ? eta -:--:--\n",
      "    --------------------------------------- 0.1/4.3 MB 4.5 MB/s eta 0:00:01\n",
      "   - -------------------------------------- 0.2/4.3 MB 2.4 MB/s eta 0:00:02\n",
      "   -- ------------------------------------- 0.3/4.3 MB 2.2 MB/s eta 0:00:02\n",
      "   --- ------------------------------------ 0.4/4.3 MB 2.1 MB/s eta 0:00:02\n",
      "   ---- ----------------------------------- 0.5/4.3 MB 2.2 MB/s eta 0:00:02\n",
      "   ----- ---------------------------------- 0.6/4.3 MB 2.3 MB/s eta 0:00:02\n",
      "   ------ --------------------------------- 0.7/4.3 MB 2.2 MB/s eta 0:00:02\n",
      "   ------ --------------------------------- 0.7/4.3 MB 2.2 MB/s eta 0:00:02\n",
      "   -------- ------------------------------- 0.9/4.3 MB 2.2 MB/s eta 0:00:02\n",
      "   -------- ------------------------------- 1.0/4.3 MB 2.2 MB/s eta 0:00:02\n",
      "   --------- ------------------------------ 1.1/4.3 MB 2.2 MB/s eta 0:00:02\n",
      "   ----------- ---------------------------- 1.2/4.3 MB 2.3 MB/s eta 0:00:02\n",
      "   ------------ --------------------------- 1.3/4.3 MB 2.3 MB/s eta 0:00:02\n",
      "   ------------- -------------------------- 1.5/4.3 MB 2.3 MB/s eta 0:00:02\n",
      "   -------------- ------------------------- 1.6/4.3 MB 2.4 MB/s eta 0:00:02\n",
      "   --------------- ------------------------ 1.7/4.3 MB 2.4 MB/s eta 0:00:02\n",
      "   ---------------- ----------------------- 1.8/4.3 MB 2.4 MB/s eta 0:00:02\n",
      "   ----------------- ---------------------- 1.9/4.3 MB 2.3 MB/s eta 0:00:02\n",
      "   ------------------ --------------------- 2.0/4.3 MB 2.4 MB/s eta 0:00:01\n",
      "   ------------------- -------------------- 2.1/4.3 MB 2.4 MB/s eta 0:00:01\n",
      "   -------------------- ------------------- 2.2/4.3 MB 2.4 MB/s eta 0:00:01\n",
      "   --------------------- ------------------ 2.3/4.3 MB 2.4 MB/s eta 0:00:01\n",
      "   ---------------------- ----------------- 2.4/4.3 MB 2.3 MB/s eta 0:00:01\n",
      "   ----------------------- ---------------- 2.5/4.3 MB 2.3 MB/s eta 0:00:01\n",
      "   ------------------------ --------------- 2.6/4.3 MB 2.4 MB/s eta 0:00:01\n",
      "   ------------------------- -------------- 2.7/4.3 MB 2.3 MB/s eta 0:00:01\n",
      "   -------------------------- ------------- 2.8/4.3 MB 2.3 MB/s eta 0:00:01\n",
      "   --------------------------- ------------ 2.9/4.3 MB 2.3 MB/s eta 0:00:01\n",
      "   --------------------------- ------------ 3.0/4.3 MB 2.3 MB/s eta 0:00:01\n",
      "   ---------------------------- ----------- 3.1/4.3 MB 2.3 MB/s eta 0:00:01\n",
      "   ----------------------------- ---------- 3.1/4.3 MB 2.3 MB/s eta 0:00:01\n",
      "   ------------------------------ --------- 3.2/4.3 MB 2.3 MB/s eta 0:00:01\n",
      "   ------------------------------ --------- 3.3/4.3 MB 2.2 MB/s eta 0:00:01\n",
      "   ------------------------------- -------- 3.4/4.3 MB 2.2 MB/s eta 0:00:01\n",
      "   -------------------------------- ------- 3.5/4.3 MB 2.2 MB/s eta 0:00:01\n",
      "   --------------------------------- ------ 3.6/4.3 MB 2.2 MB/s eta 0:00:01\n",
      "   ---------------------------------- ----- 3.7/4.3 MB 2.2 MB/s eta 0:00:01\n",
      "   ----------------------------------- ---- 3.9/4.3 MB 2.2 MB/s eta 0:00:01\n",
      "   ------------------------------------ --- 3.9/4.3 MB 2.2 MB/s eta 0:00:01\n",
      "   ------------------------------------- -- 4.0/4.3 MB 2.2 MB/s eta 0:00:01\n",
      "   -------------------------------------- - 4.2/4.3 MB 2.2 MB/s eta 0:00:01\n",
      "   ---------------------------------------  4.3/4.3 MB 2.3 MB/s eta 0:00:01\n",
      "   ---------------------------------------  4.3/4.3 MB 2.2 MB/s eta 0:00:01\n",
      "   ---------------------------------------- 4.3/4.3 MB 2.2 MB/s eta 0:00:00\n",
      "Downloading proto_plus-1.26.0-py3-none-any.whl (50 kB)\n",
      "   ---------------------------------------- 0.0/50.2 kB ? eta -:--:--\n",
      "   -------------------------------- ------- 41.0/50.2 kB 1.9 MB/s eta 0:00:01\n",
      "   ---------------------------------------- 50.2/50.2 kB 849.5 kB/s eta 0:00:00\n",
      "Downloading protobuf-5.29.3-cp310-abi3-win_amd64.whl (434 kB)\n",
      "   ---------------------------------------- 0.0/434.5 kB ? eta -:--:--\n",
      "   ---------- ----------------------------- 112.6/434.5 kB 3.3 MB/s eta 0:00:01\n",
      "   ------------------ --------------------- 204.8/434.5 kB 2.5 MB/s eta 0:00:01\n",
      "   ------------------------------- -------- 337.9/434.5 kB 2.6 MB/s eta 0:00:01\n",
      "   ---------------------------------------  430.1/434.5 kB 2.4 MB/s eta 0:00:01\n",
      "   ---------------------------------------- 434.5/434.5 kB 2.1 MB/s eta 0:00:00\n",
      "Downloading rsa-4.9-py3-none-any.whl (34 kB)\n",
      "Installing collected packages: rsa, protobuf, grpcio, google-crc32c, proto-plus, googleapis-common-protos, google-resumable-media, google-auth, grpcio-status, google-api-core, google-cloud-core, google-cloud-bigquery\n",
      "  Attempting uninstall: protobuf\n",
      "    Found existing installation: protobuf 3.20.3\n",
      "    Uninstalling protobuf-3.20.3:\n",
      "      Successfully uninstalled protobuf-3.20.3\n",
      "  Attempting uninstall: grpcio\n",
      "    Found existing installation: grpcio 1.63.0\n",
      "    Uninstalling grpcio-1.63.0:\n",
      "      Successfully uninstalled grpcio-1.63.0\n",
      "Successfully installed google-api-core-2.24.1 google-auth-2.38.0 google-cloud-bigquery-3.29.0 google-cloud-core-2.4.1 google-crc32c-1.6.0 google-resumable-media-2.7.2 googleapis-common-protos-1.66.0 grpcio-1.70.0 grpcio-status-1.70.0 proto-plus-1.26.0 protobuf-5.29.3 rsa-4.9\n"
     ]
    },
    {
     "name": "stderr",
     "output_type": "stream",
     "text": [
      "ERROR: pip's dependency resolver does not currently take into account all the packages that are installed. This behaviour is the source of the following dependency conflicts.\n",
      "pymilvus 2.4.5 requires grpcio<=1.63.0,>=1.49.1, but you have grpcio 1.70.0 which is incompatible.\n",
      "streamlit 1.32.0 requires protobuf<5,>=3.20, but you have protobuf 5.29.3 which is incompatible.\n"
     ]
    }
   ],
   "source": [
    "# !pip install google-cloud-bigquery"
   ]
  },
  {
   "cell_type": "code",
   "execution_count": 34,
   "id": "32d8678b",
   "metadata": {},
   "outputs": [
    {
     "name": "stdout",
     "output_type": "stream",
     "text": [
      "Collecting db-dtypes\n",
      "  Downloading db_dtypes-1.4.0-py2.py3-none-any.whl.metadata (3.0 kB)\n",
      "Requirement already satisfied: packaging>=17.0 in c:\\users\\tliu1\\anaconda3\\lib\\site-packages (from db-dtypes) (23.2)\n",
      "Requirement already satisfied: pandas>=0.24.2 in c:\\users\\tliu1\\anaconda3\\lib\\site-packages (from db-dtypes) (2.2.2)\n",
      "Requirement already satisfied: pyarrow>=3.0.0 in c:\\users\\tliu1\\anaconda3\\lib\\site-packages (from db-dtypes) (14.0.2)\n",
      "Requirement already satisfied: numpy>=1.16.6 in c:\\users\\tliu1\\anaconda3\\lib\\site-packages (from db-dtypes) (1.26.4)\n",
      "Requirement already satisfied: python-dateutil>=2.8.2 in c:\\users\\tliu1\\anaconda3\\lib\\site-packages (from pandas>=0.24.2->db-dtypes) (2.9.0.post0)\n",
      "Requirement already satisfied: pytz>=2020.1 in c:\\users\\tliu1\\anaconda3\\lib\\site-packages (from pandas>=0.24.2->db-dtypes) (2024.1)\n",
      "Requirement already satisfied: tzdata>=2022.7 in c:\\users\\tliu1\\anaconda3\\lib\\site-packages (from pandas>=0.24.2->db-dtypes) (2023.3)\n",
      "Requirement already satisfied: six>=1.5 in c:\\users\\tliu1\\anaconda3\\lib\\site-packages (from python-dateutil>=2.8.2->pandas>=0.24.2->db-dtypes) (1.16.0)\n",
      "Downloading db_dtypes-1.4.0-py2.py3-none-any.whl (19 kB)\n",
      "Installing collected packages: db-dtypes\n",
      "Successfully installed db-dtypes-1.4.0\n"
     ]
    }
   ],
   "source": [
    "# !pip install db-dtypes"
   ]
  },
  {
   "cell_type": "code",
   "execution_count": 1,
   "id": "fd127745-a9ec-4a87-8eac-c5e5aa418839",
   "metadata": {},
   "outputs": [],
   "source": [
    "import pandas as pd\n",
    "import os"
   ]
  },
  {
   "cell_type": "code",
   "execution_count": 2,
   "id": "13ccc87c",
   "metadata": {},
   "outputs": [],
   "source": [
    "# Define your GCP project and dataset\n",
    "PROJECT_ID = os.environ.get(\"GCP_PROJECT_ID\", 'fluid-vector-445118-g3')\n",
    "BIGQUERY_DATASET = os.environ.get(\"BIGQUERY_DATASET\", 'first_dataset_tl')"
   ]
  },
  {
   "cell_type": "code",
   "execution_count": 3,
   "id": "ca0fd6cb",
   "metadata": {},
   "outputs": [],
   "source": [
    "os.environ[\"GOOGLE_APPLICATION_CREDENTIALS\"] = r\"C:\\Users\\tliu1\\AppData\\Roaming\\gcloud\\application_default_credentials.json\""
   ]
  },
  {
   "cell_type": "code",
   "execution_count": 4,
   "id": "90677b2b",
   "metadata": {},
   "outputs": [],
   "source": [
    "from google.cloud import bigquery\n",
    "\n",
    "# Create a BigQuery client\n",
    "client = bigquery.Client(project=f\"{PROJECT_ID}\" )"
   ]
  },
  {
   "cell_type": "code",
   "execution_count": null,
   "id": "2b87bac2",
   "metadata": {},
   "outputs": [
    {
     "name": "stdout",
     "output_type": "stream",
     "text": [
      "<google.cloud.bigquery.table.RowIterator object at 0x00000169B1BC5AF0>\n"
     ]
    }
   ],
   "source": [
    "# # Test with a simple query\n",
    "# query = f\"SELECT * FROM `{PROJECT_ID}.{BIGQUERY_DATASET}.merged_yellow_table` LIMIT 5\"\n",
    "# query_job = client.query(query)\n",
    "\n",
    "# print(query_job.result())  # Should return 1 without error"
   ]
  },
  {
   "cell_type": "code",
   "execution_count": 9,
   "id": "bbd35a22",
   "metadata": {},
   "outputs": [
    {
     "name": "stderr",
     "output_type": "stream",
     "text": [
      "c:\\Users\\tliu1\\anaconda3\\Lib\\site-packages\\google\\cloud\\bigquery\\table.py:1820: UserWarning: BigQuery Storage module not found, fetch data with the REST endpoint instead.\n",
      "  warnings.warn(\n"
     ]
    },
    {
     "data": {
      "text/html": [
       "<div>\n",
       "<style scoped>\n",
       "    .dataframe tbody tr th:only-of-type {\n",
       "        vertical-align: middle;\n",
       "    }\n",
       "\n",
       "    .dataframe tbody tr th {\n",
       "        vertical-align: top;\n",
       "    }\n",
       "\n",
       "    .dataframe thead th {\n",
       "        text-align: right;\n",
       "    }\n",
       "</style>\n",
       "<table border=\"1\" class=\"dataframe\">\n",
       "  <thead>\n",
       "    <tr style=\"text-align: right;\">\n",
       "      <th></th>\n",
       "      <th>f0_</th>\n",
       "    </tr>\n",
       "  </thead>\n",
       "  <tbody>\n",
       "    <tr>\n",
       "      <th>0</th>\n",
       "      <td>24648499</td>\n",
       "    </tr>\n",
       "  </tbody>\n",
       "</table>\n",
       "</div>"
      ],
      "text/plain": [
       "        f0_\n",
       "0  24648499"
      ]
     },
     "execution_count": 9,
     "metadata": {},
     "output_type": "execute_result"
    }
   ],
   "source": [
    "#Q3: Number of rows(yellow,2020)\n",
    "## Define your query\n",
    "query = f\"\"\"\n",
    "SELECT COUNT(*) FROM `{PROJECT_ID}.{BIGQUERY_DATASET}.merged_yellow_table`;\n",
    "\"\"\"\n",
    "# Execute the query\n",
    "query_job = client.query(query)\n",
    "# Convert results to a Pandas DataFrame\n",
    "df = query_job.to_dataframe()\n",
    "# Display results\n",
    "df.head(5)"
   ]
  },
  {
   "cell_type": "code",
   "execution_count": 10,
   "id": "5eb0efdd",
   "metadata": {},
   "outputs": [
    {
     "name": "stderr",
     "output_type": "stream",
     "text": [
      "c:\\Users\\tliu1\\anaconda3\\Lib\\site-packages\\google\\cloud\\bigquery\\table.py:1820: UserWarning: BigQuery Storage module not found, fetch data with the REST endpoint instead.\n",
      "  warnings.warn(\n"
     ]
    },
    {
     "data": {
      "text/html": [
       "<div>\n",
       "<style scoped>\n",
       "    .dataframe tbody tr th:only-of-type {\n",
       "        vertical-align: middle;\n",
       "    }\n",
       "\n",
       "    .dataframe tbody tr th {\n",
       "        vertical-align: top;\n",
       "    }\n",
       "\n",
       "    .dataframe thead th {\n",
       "        text-align: right;\n",
       "    }\n",
       "</style>\n",
       "<table border=\"1\" class=\"dataframe\">\n",
       "  <thead>\n",
       "    <tr style=\"text-align: right;\">\n",
       "      <th></th>\n",
       "      <th>f0_</th>\n",
       "    </tr>\n",
       "  </thead>\n",
       "  <tbody>\n",
       "    <tr>\n",
       "      <th>0</th>\n",
       "      <td>1734051</td>\n",
       "    </tr>\n",
       "  </tbody>\n",
       "</table>\n",
       "</div>"
      ],
      "text/plain": [
       "       f0_\n",
       "0  1734051"
      ]
     },
     "execution_count": 10,
     "metadata": {},
     "output_type": "execute_result"
    }
   ],
   "source": [
    "#Q4:Number of rows(green, 2020)\n",
    "## Define your query\n",
    "query = f\"\"\"\n",
    "SELECT COUNT(*) FROM `{PROJECT_ID}.{BIGQUERY_DATASET}.merged_green_table`;\n",
    "\"\"\"\n",
    "# Execute the query\n",
    "query_job = client.query(query)\n",
    "# Convert results to a Pandas DataFrame\n",
    "df = query_job.to_dataframe()\n",
    "# Display results\n",
    "df.head()"
   ]
  },
  {
   "cell_type": "code",
   "execution_count": 11,
   "id": "4a3e039d",
   "metadata": {},
   "outputs": [
    {
     "name": "stderr",
     "output_type": "stream",
     "text": [
      "c:\\Users\\tliu1\\anaconda3\\Lib\\site-packages\\google\\cloud\\bigquery\\table.py:1820: UserWarning: BigQuery Storage module not found, fetch data with the REST endpoint instead.\n",
      "  warnings.warn(\n"
     ]
    },
    {
     "data": {
      "text/html": [
       "<div>\n",
       "<style scoped>\n",
       "    .dataframe tbody tr th:only-of-type {\n",
       "        vertical-align: middle;\n",
       "    }\n",
       "\n",
       "    .dataframe tbody tr th {\n",
       "        vertical-align: top;\n",
       "    }\n",
       "\n",
       "    .dataframe thead th {\n",
       "        text-align: right;\n",
       "    }\n",
       "</style>\n",
       "<table border=\"1\" class=\"dataframe\">\n",
       "  <thead>\n",
       "    <tr style=\"text-align: right;\">\n",
       "      <th></th>\n",
       "      <th>f0_</th>\n",
       "    </tr>\n",
       "  </thead>\n",
       "  <tbody>\n",
       "    <tr>\n",
       "      <th>0</th>\n",
       "      <td>1925152</td>\n",
       "    </tr>\n",
       "  </tbody>\n",
       "</table>\n",
       "</div>"
      ],
      "text/plain": [
       "       f0_\n",
       "0  1925152"
      ]
     },
     "execution_count": 11,
     "metadata": {},
     "output_type": "execute_result"
    }
   ],
   "source": [
    "#Q5:Number of rows(green, 2020)\n",
    "## Define your query\n",
    "query = f\"\"\"\n",
    "SELECT COUNT(*) FROM `{PROJECT_ID}.{BIGQUERY_DATASET}.yellow_2021-03_table`;\n",
    "\"\"\"\n",
    "# Execute the query\n",
    "query_job = client.query(query)\n",
    "# Convert results to a Pandas DataFrame\n",
    "df = query_job.to_dataframe()\n",
    "# Display results\n",
    "df.head()"
   ]
  }
 ],
 "metadata": {
  "kernelspec": {
   "display_name": "base",
   "language": "python",
   "name": "python3"
  },
  "language_info": {
   "codemirror_mode": {
    "name": "ipython",
    "version": 3
   },
   "file_extension": ".py",
   "mimetype": "text/x-python",
   "name": "python",
   "nbconvert_exporter": "python",
   "pygments_lexer": "ipython3",
   "version": "3.12.4"
  }
 },
 "nbformat": 4,
 "nbformat_minor": 5
}
